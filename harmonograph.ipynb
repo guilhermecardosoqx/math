{
 "cells": [
  {
   "cell_type": "code",
   "execution_count": null,
   "id": "07ae4b1c-3325-467c-9010-171e68135e8c",
   "metadata": {},
   "outputs": [],
   "source": [
    "import numpy as np\n",
    "import matplotlib.pyplot as plt"
   ]
  },
  {
   "cell_type": "code",
   "execution_count": null,
   "id": "a8c19ab3",
   "metadata": {},
   "outputs": [],
   "source": [
    "n = 1000000\n",
    "t = np.logspace(np.log10(10),np.log10(500),n)\n",
    "\n",
    "A = [1,1,1.5,1.5]\n",
    "d = [.004,.001,.002,.0015]\n",
    "f = [3,1,2,2.5]\n",
    "\n",
    "x = A[0]*np.sin(t*f[0])*np.exp(-d[0]*t) + A[1]*np.sin(t*f[1])*np.exp(-d[1]*t)\n",
    "y = A[2]*np.sin(t*f[2])*np.exp(-d[2]*t) + A[3]*np.sin(t*f[3])*np.exp(-d[3]*t)\n",
    "\n",
    "plt.plot(x,y,'k',linewidth=.1)\n",
    "plt.axis('off')\n",
    "plt.show()"
   ]
  },
  {
   "cell_type": "code",
   "execution_count": null,
   "id": "757da624",
   "metadata": {},
   "outputs": [],
   "source": [
    "plt.plot(np.sin(t*f[0])*np.exp(-d[0]*5*t),linewidth=.5)\n",
    "plt.show()"
   ]
  }
 ],
 "metadata": {
  "kernelspec": {
   "display_name": "Python 3 (ipykernel)",
   "language": "python",
   "name": "python3"
  },
  "language_info": {
   "codemirror_mode": {
    "name": "ipython",
    "version": 3
   },
   "file_extension": ".py",
   "mimetype": "text/x-python",
   "name": "python",
   "nbconvert_exporter": "python",
   "pygments_lexer": "ipython3",
   "version": "3.13.5"
  }
 },
 "nbformat": 4,
 "nbformat_minor": 5
}
